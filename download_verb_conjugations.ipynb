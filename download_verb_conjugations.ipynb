{
 "cells": [
  {
   "cell_type": "code",
   "execution_count": null,
   "metadata": {},
   "outputs": [],
   "source": [
    "import pandas as pd\n",
    "import regex\n",
    "import bs4\n",
    "from bs4 import BeautifulSoup\n",
    "from config import SCRAPER_API_KEY\n",
    "import asyncio\n",
    "import aiohttp\n",
    "import urllib.parse"
   ]
  },
  {
   "cell_type": "code",
   "execution_count": null,
   "metadata": {},
   "outputs": [],
   "source": [
    "df = pd.read_csv(\"basic_french_flashcards.csv\", sep=\"&\")\n",
    "is_verb = lambda x: True if regex.search(\"(?<=( |^))v(?=( |$))\", x) else False\n",
    "df[\"pos_codes\"] = df.pos_codes.fillna(\"\")\n",
    "df_verbs = df[df.pos_codes.apply(is_verb)].reset_index()\n",
    "df_verbs = df_verbs[[\"frequency_idx\", \"french_word\", \"word_english\"]]\n",
    "verb_records = df_verbs.to_dict(\"records\")\n"
   ]
  },
  {
   "cell_type": "code",
   "execution_count": null,
   "metadata": {},
   "outputs": [],
   "source": [
    "async def get_verb_conjugation(word, session):\n",
    "    url = f\"https://www.wordreference.com/conj/frverbs.aspx?v={word}\"\n",
    "    endpoint = f\"https://api.scraperapi.com?api_key={SCRAPER_API_KEY}&url={url}\"\n",
    "    async with session.get(endpoint) as response:\n",
    "        if response.status != 200:\n",
    "            print(response)\n",
    "            raise ValueError(\"Invalid HTTP status\")\n",
    "        response_text = await response.text()\n",
    "    return response_text\n"
   ]
  },
  {
   "cell_type": "code",
   "execution_count": null,
   "metadata": {},
   "outputs": [],
   "source": [
    "async with aiohttp.ClientSession() as session:\n",
    "    response_text = await get_verb_conjugation(\"atteindre\", session)\n"
   ]
  },
  {
   "cell_type": "code",
   "execution_count": null,
   "metadata": {},
   "outputs": [],
   "source": [
    "def extract_base_word_forms(soup):\n",
    "    word_forms_table = soup.find_all(\"table\", id=\"conjtable\")[0]\n",
    "    word_forms = word_forms_table.find_all(\"td\")[1]\n",
    "    html_string = \"\"\n",
    "    for i in word_forms:\n",
    "        html_string += str(i)\n",
    "    html_split = html_string.strip().split(\"<br/>\")\n",
    "    word_forms = [\n",
    "        item.replace(\"</b>\", \"\").replace(\"<b>\", \"\").replace(\"–\", \"\")\n",
    "        for item in html_split\n",
    "    ]\n",
    "    word_form_types = [\n",
    "        \"infinitif\",\n",
    "        \"participe présent\",\n",
    "        \"participe passé\",\n",
    "        \"forme pronominale\",\n",
    "    ]\n",
    "    result = dict(zip(word_form_types, word_forms))\n",
    "    del result[\"infinitif\"]\n",
    "    result[\"has_reflexive\"] = True if result[\"forme pronominale\"] else False\n",
    "    del result[\"forme pronominale\"]\n",
    "    return result\n"
   ]
  },
  {
   "cell_type": "code",
   "execution_count": null,
   "metadata": {},
   "outputs": [],
   "source": [
    "def extract_conjugation_tables(soup):\n",
    "    conjugaiton_tables = soup.find_all(\"table\", \"neoConj\")\n",
    "    conjugation_tables_parsed = [\n",
    "        pd.read_html(str(table), flavor=\"html5lib\")[0] for table in conjugaiton_tables\n",
    "    ]\n",
    "    indicatif_tables = conjugation_tables_parsed[0:4]\n",
    "    formes_composées = conjugation_tables_parsed[4:8].pop(2)\n",
    "    subjonctif = conjugation_tables_parsed[8:11].pop(1)\n",
    "    conditionnel = conjugation_tables_parsed[12:14]\n",
    "    impératif = conjugation_tables_parsed[15:16]\n",
    "    return impératif\n"
   ]
  },
  {
   "cell_type": "code",
   "execution_count": null,
   "metadata": {},
   "outputs": [],
   "source": [
    "def process_conjugation_response(response_text):\n",
    "    soup = BeautifulSoup(response_text, \"html5lib\")\n",
    "    word_forms = extract_base_word_forms(soup)\n",
    "    conjugation_tables = extract_conjugation_tables(soup)\n",
    "    return word_forms, conjugation_tables\n"
   ]
  },
  {
   "cell_type": "code",
   "execution_count": null,
   "metadata": {},
   "outputs": [],
   "source": [
    "soup = BeautifulSoup(response_text, \"html5lib\")\n",
    "result = extract_conjugation_tables(soup)\n",
    "print(result[0])"
   ]
  }
 ],
 "metadata": {
  "kernelspec": {
   "display_name": "Python 3.10.4 ('french_flashcards')",
   "language": "python",
   "name": "python3"
  },
  "language_info": {
   "codemirror_mode": {
    "name": "ipython",
    "version": 3
   },
   "file_extension": ".py",
   "mimetype": "text/x-python",
   "name": "python",
   "nbconvert_exporter": "python",
   "pygments_lexer": "ipython3",
   "version": "3.10.4"
  },
  "orig_nbformat": 4,
  "vscode": {
   "interpreter": {
    "hash": "b0a00106c57f919c93c04c3e5bc403e8c74a6df6712ad57de0b788fdb8e17cb9"
   }
  }
 },
 "nbformat": 4,
 "nbformat_minor": 2
}
