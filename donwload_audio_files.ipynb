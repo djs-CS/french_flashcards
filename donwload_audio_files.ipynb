{
 "cells": [
  {
   "cell_type": "code",
   "execution_count": null,
   "metadata": {},
   "outputs": [],
   "source": [
    "from config import FORVO_API_KEY\n",
    "import asyncio\n",
    "import aiohttp\n",
    "import urllib.parse\n",
    "import pandas as pd\n",
    "import sys\n",
    "import os"
   ]
  },
  {
   "cell_type": "code",
   "execution_count": null,
   "metadata": {},
   "outputs": [],
   "source": [
    "df = pd.read_csv(\"basic_french_flashcards.csv\", sep=\"&\")\n",
    "records = df.to_dict(\"records\")"
   ]
  },
  {
   "cell_type": "code",
   "execution_count": null,
   "metadata": {},
   "outputs": [],
   "source": [
    "async def get_sound_file(\n",
    "    dictionary,\n",
    "    session,\n",
    "    api_key=FORVO_API_KEY,\n",
    "):\n",
    "    word = urllib.parse.quote(dictionary[\"french_word\"])\n",
    "    freq_idx = dictionary[\"frequency_idx\"]\n",
    "    url = f\"https://apifree.forvo.com/key/{api_key}/format/json/action/standard-pronunciation/word/{word}/language/fr\"\n",
    "    file_name = f\"french_audio_{freq_idx}.mp3\"\n",
    "    path = \"mp3_files/\"\n",
    "    try:\n",
    "        async with session.get(url) as response:\n",
    "            json_response = await response.json()\n",
    "            mp3_download_url = json_response[\"items\"][0][\"pathmp3\"]\n",
    "        async with session.get(mp3_download_url) as mp3_response:\n",
    "            mp3_file = await mp3_response.read()\n",
    "        if sys.getsizeof(mp3_file) < 100:\n",
    "            raise ValueError(\"No File Downloaded\")\n",
    "        with open(f\"{path}{file_name}\", \"wb\") as local_file:\n",
    "            local_file.write(mp3_file)\n",
    "            print(f\"Downloaded {freq_idx}\")\n",
    "    except Exception as e:\n",
    "        return (dictionary, str(e))\n",
    "\n",
    "\n",
    "async def get_multiple_sound_files(match_dict):\n",
    "    all_responses = []\n",
    "    async with aiohttp.ClientSession() as session:\n",
    "        chunked_match_dicts = [\n",
    "            match_dict[i : i + 5] for i in range(0, len(match_dict), 5)\n",
    "        ]\n",
    "        for chunked_match_dict in chunked_match_dicts:\n",
    "            tasks = []\n",
    "            tasks.append(asyncio.sleep(5))\n",
    "            for item in chunked_match_dict:\n",
    "                tasks.append(get_sound_file(item, session))\n",
    "            responses = await asyncio.gather(*tasks)\n",
    "            all_responses.extend(\n",
    "                [response for response in responses if response is not None]\n",
    "            )\n",
    "    return all_responses\n"
   ]
  },
  {
   "cell_type": "code",
   "execution_count": null,
   "metadata": {},
   "outputs": [],
   "source": [
    "result = sys.getsizeof('mp3_files/french_audio_1.mp3')\n",
    "print(result)"
   ]
  },
  {
   "cell_type": "code",
   "execution_count": null,
   "metadata": {},
   "outputs": [],
   "source": [
    "# failed_downloads = await get_multiple_sound_files(records[3380:3500])"
   ]
  },
  {
   "cell_type": "code",
   "execution_count": null,
   "metadata": {},
   "outputs": [],
   "source": [
    "# retry = [item[0] for item in failed_downloads]\n",
    "# failed_downloads2 = await get_multiple_sound_files(retry)"
   ]
  },
  {
   "cell_type": "code",
   "execution_count": null,
   "metadata": {},
   "outputs": [],
   "source": [
    "def check_for_missing_audio_filename(last_audio):\n",
    "    dir = os.listdir('mp3_files')\n",
    "    dir.remove('.DS_Store')\n",
    "    extract_num = lambda x: int(x.replace('french_audio_', \"\").replace(\".mp3\", \"\"))\n",
    "    nums = [extract_num(name) for name in dir]\n",
    "    nums.sort()\n",
    "    comparison_list = list(range(1, last_audio+1))\n",
    "    return nums == comparison_list\n",
    "# check_for_missing_audio_filename(3500)"
   ]
  },
  {
   "cell_type": "code",
   "execution_count": null,
   "metadata": {},
   "outputs": [],
   "source": [
    "def check_for_corrupt_downloads():\n",
    "    dir = os.listdir('mp3_files')\n",
    "    dir.remove(\".DS_Store\")\n",
    "    filesizes = [{\"file_size\": sys.getsizeof(f\"mp3_files/{file}\"), \"file_name\": file} for file in dir]\n",
    "    df = pd.DataFrame.from_records(filesizes)\n",
    "    return df\n",
    "    \n",
    "df = check_for_corrupt_downloads()\n",
    "print(df.file_size.min())"
   ]
  }
 ],
 "metadata": {
  "kernelspec": {
   "display_name": "Python 3.10.4 ('french_flashcards')",
   "language": "python",
   "name": "python3"
  },
  "language_info": {
   "codemirror_mode": {
    "name": "ipython",
    "version": 3
   },
   "file_extension": ".py",
   "mimetype": "text/x-python",
   "name": "python",
   "nbconvert_exporter": "python",
   "pygments_lexer": "ipython3",
   "version": "3.10.4"
  },
  "orig_nbformat": 4,
  "vscode": {
   "interpreter": {
    "hash": "b0a00106c57f919c93c04c3e5bc403e8c74a6df6712ad57de0b788fdb8e17cb9"
   }
  }
 },
 "nbformat": 4,
 "nbformat_minor": 2
}
